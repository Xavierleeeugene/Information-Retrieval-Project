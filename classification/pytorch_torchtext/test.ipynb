{
 "cells": [
  {
   "cell_type": "code",
   "execution_count": 22,
   "metadata": {},
   "outputs": [],
   "source": [
    "import torch\n",
    "import torch.nn.functional as F\n",
    "import torchtext\n",
    "import time\n",
    "import random\n",
    "import pandas as pd\n",
    "\n",
    "torch.backends.cudnn.deterministic = True"
   ]
  },
  {
   "cell_type": "code",
   "execution_count": 23,
   "metadata": {},
   "outputs": [],
   "source": [
    "RANDOM_SEED = 123\n",
    "torch.manual_seed(RANDOM_SEED)\n",
    "\n",
    "VOCABULARY_SIZE = 20000\n",
    "LEARNING_RATE = 0.005\n",
    "BATCH_SIZE = 128\n",
    "NUM_EPOCHS = 15\n",
    "DEVICE = torch.device('cuda:1' if torch.cuda.is_available() else 'cpu')\n",
    "\n",
    "EMBEDDING_DIM = 128\n",
    "HIDDEN_DIM = 256\n",
    "NUM_CLASSES = 2"
   ]
  },
  {
   "cell_type": "code",
   "execution_count": 24,
   "metadata": {},
   "outputs": [
    {
     "data": {
      "text/html": [
       "<div>\n",
       "<style scoped>\n",
       "    .dataframe tbody tr th:only-of-type {\n",
       "        vertical-align: middle;\n",
       "    }\n",
       "\n",
       "    .dataframe tbody tr th {\n",
       "        vertical-align: top;\n",
       "    }\n",
       "\n",
       "    .dataframe thead th {\n",
       "        text-align: right;\n",
       "    }\n",
       "</style>\n",
       "<table border=\"1\" class=\"dataframe\">\n",
       "  <thead>\n",
       "    <tr style=\"text-align: right;\">\n",
       "      <th></th>\n",
       "      <th>topic</th>\n",
       "      <th>title</th>\n",
       "      <th>source</th>\n",
       "      <th>article_link</th>\n",
       "      <th>article</th>\n",
       "      <th>sentiments</th>\n",
       "    </tr>\n",
       "  </thead>\n",
       "  <tbody>\n",
       "    <tr>\n",
       "      <th>0</th>\n",
       "      <td>Microsoft</td>\n",
       "      <td>The Top 7 Tech Stocks to Buy in March 2024</td>\n",
       "      <td>InvestorPlace</td>\n",
       "      <td>https://investorplace.com/2024/03/the-top-7-te...</td>\n",
       "      <td>Microsoft (MSFT) is still growing at a fast pa...</td>\n",
       "      <td>positive</td>\n",
       "    </tr>\n",
       "    <tr>\n",
       "      <th>1</th>\n",
       "      <td>Microsoft</td>\n",
       "      <td>Microsoft-owned LinkedIn makes this 'first-eve...</td>\n",
       "      <td>Times of India</td>\n",
       "      <td>https://timesofindia.indiatimes.com/gadgets-ne...</td>\n",
       "      <td>Microsoft-owned LinkedIn generated $1.7 billio...</td>\n",
       "      <td>positive</td>\n",
       "    </tr>\n",
       "    <tr>\n",
       "      <th>2</th>\n",
       "      <td>Microsoft</td>\n",
       "      <td>Microsoft debuts Copilot for finance pros</td>\n",
       "      <td>Computerworld</td>\n",
       "      <td>https://www.computerworld.com/article/3714142/...</td>\n",
       "      <td>Microsoft has launched a Copilot assistant for...</td>\n",
       "      <td>neutral</td>\n",
       "    </tr>\n",
       "    <tr>\n",
       "      <th>3</th>\n",
       "      <td>Microsoft</td>\n",
       "      <td>Microsoft's Path to Becoming the Largest Compa...</td>\n",
       "      <td>The Motley Fool</td>\n",
       "      <td>https://www.fool.com/investing/2024/03/06/micr...</td>\n",
       "      <td>Microsoft's Path to Becoming the Largest Compa...</td>\n",
       "      <td>positive</td>\n",
       "    </tr>\n",
       "    <tr>\n",
       "      <th>4</th>\n",
       "      <td>Microsoft</td>\n",
       "      <td>Top Analyst Brad Reback Weighs in on Microsoft...</td>\n",
       "      <td>Tipranks</td>\n",
       "      <td>https://www.tipranks.com/news/top-analyst-brad...</td>\n",
       "      <td>Non-deal roadshows (NDRs) allow institutional ...</td>\n",
       "      <td>positive</td>\n",
       "    </tr>\n",
       "    <tr>\n",
       "      <th>...</th>\n",
       "      <td>...</td>\n",
       "      <td>...</td>\n",
       "      <td>...</td>\n",
       "      <td>...</td>\n",
       "      <td>...</td>\n",
       "      <td>...</td>\n",
       "    </tr>\n",
       "    <tr>\n",
       "      <th>10856</th>\n",
       "      <td>Crowdstrike Holdings</td>\n",
       "      <td>CrowdStrike (CRWD) Q4 Earnings Report Preview:...</td>\n",
       "      <td>Yahoo Finance</td>\n",
       "      <td>https://finance.yahoo.com/news/crowdstrike-crw...</td>\n",
       "      <td>In this article, CrowdStrike (NASDAQ:CRWD) wil...</td>\n",
       "      <td>positive</td>\n",
       "    </tr>\n",
       "    <tr>\n",
       "      <th>10857</th>\n",
       "      <td>Crowdstrike Holdings</td>\n",
       "      <td>CRWD Stock Earnings: CrowdStrike Holdings Beat...</td>\n",
       "      <td>InvestorPlace</td>\n",
       "      <td>https://investorplace.com/earning-results/2024...</td>\n",
       "      <td>CrowdStrike Holdings (NASDAQ: CRWD) just repor...</td>\n",
       "      <td>neutral</td>\n",
       "    </tr>\n",
       "    <tr>\n",
       "      <th>10858</th>\n",
       "      <td>Crowdstrike Holdings</td>\n",
       "      <td>Insider Selling: CrowdStrike Holdings, Inc. (N...</td>\n",
       "      <td>Defense World</td>\n",
       "      <td>https://www.defenseworld.net/2024/03/24/inside...</td>\n",
       "      <td>CrowdStrike Holdings, Inc. (NASDAQ:CRWD) Presi...</td>\n",
       "      <td>negative</td>\n",
       "    </tr>\n",
       "    <tr>\n",
       "      <th>10859</th>\n",
       "      <td>Crowdstrike Holdings</td>\n",
       "      <td>CrowdStrike (NASDAQ:CRWD) Shares Down 0.2% on ...</td>\n",
       "      <td>MarketBeat</td>\n",
       "      <td>https://www.marketbeat.com/instant-alerts/nasd...</td>\n",
       "      <td>CrowdStrike Holdings, Inc. (NASDAQ:CRWD) share...</td>\n",
       "      <td>negative</td>\n",
       "    </tr>\n",
       "    <tr>\n",
       "      <th>10860</th>\n",
       "      <td>Crowdstrike Holdings</td>\n",
       "      <td>Hillman Co. Lowers Holdings in CrowdStrike Hol...</td>\n",
       "      <td>MarketBeat</td>\n",
       "      <td>https://www.marketbeat.com/instant-alerts/nasd...</td>\n",
       "      <td>Hillman Co. trimmed its position in shares of ...</td>\n",
       "      <td>negative</td>\n",
       "    </tr>\n",
       "  </tbody>\n",
       "</table>\n",
       "<p>10861 rows × 6 columns</p>\n",
       "</div>"
      ],
      "text/plain": [
       "                      topic  \\\n",
       "0                 Microsoft   \n",
       "1                 Microsoft   \n",
       "2                 Microsoft   \n",
       "3                 Microsoft   \n",
       "4                 Microsoft   \n",
       "...                     ...   \n",
       "10856  Crowdstrike Holdings   \n",
       "10857  Crowdstrike Holdings   \n",
       "10858  Crowdstrike Holdings   \n",
       "10859  Crowdstrike Holdings   \n",
       "10860  Crowdstrike Holdings   \n",
       "\n",
       "                                                   title           source  \\\n",
       "0             The Top 7 Tech Stocks to Buy in March 2024    InvestorPlace   \n",
       "1      Microsoft-owned LinkedIn makes this 'first-eve...   Times of India   \n",
       "2              Microsoft debuts Copilot for finance pros    Computerworld   \n",
       "3      Microsoft's Path to Becoming the Largest Compa...  The Motley Fool   \n",
       "4      Top Analyst Brad Reback Weighs in on Microsoft...         Tipranks   \n",
       "...                                                  ...              ...   \n",
       "10856  CrowdStrike (CRWD) Q4 Earnings Report Preview:...    Yahoo Finance   \n",
       "10857  CRWD Stock Earnings: CrowdStrike Holdings Beat...    InvestorPlace   \n",
       "10858  Insider Selling: CrowdStrike Holdings, Inc. (N...    Defense World   \n",
       "10859  CrowdStrike (NASDAQ:CRWD) Shares Down 0.2% on ...       MarketBeat   \n",
       "10860  Hillman Co. Lowers Holdings in CrowdStrike Hol...       MarketBeat   \n",
       "\n",
       "                                            article_link  \\\n",
       "0      https://investorplace.com/2024/03/the-top-7-te...   \n",
       "1      https://timesofindia.indiatimes.com/gadgets-ne...   \n",
       "2      https://www.computerworld.com/article/3714142/...   \n",
       "3      https://www.fool.com/investing/2024/03/06/micr...   \n",
       "4      https://www.tipranks.com/news/top-analyst-brad...   \n",
       "...                                                  ...   \n",
       "10856  https://finance.yahoo.com/news/crowdstrike-crw...   \n",
       "10857  https://investorplace.com/earning-results/2024...   \n",
       "10858  https://www.defenseworld.net/2024/03/24/inside...   \n",
       "10859  https://www.marketbeat.com/instant-alerts/nasd...   \n",
       "10860  https://www.marketbeat.com/instant-alerts/nasd...   \n",
       "\n",
       "                                                 article sentiments  \n",
       "0      Microsoft (MSFT) is still growing at a fast pa...   positive  \n",
       "1      Microsoft-owned LinkedIn generated $1.7 billio...   positive  \n",
       "2      Microsoft has launched a Copilot assistant for...    neutral  \n",
       "3      Microsoft's Path to Becoming the Largest Compa...   positive  \n",
       "4      Non-deal roadshows (NDRs) allow institutional ...   positive  \n",
       "...                                                  ...        ...  \n",
       "10856  In this article, CrowdStrike (NASDAQ:CRWD) wil...   positive  \n",
       "10857  CrowdStrike Holdings (NASDAQ: CRWD) just repor...    neutral  \n",
       "10858  CrowdStrike Holdings, Inc. (NASDAQ:CRWD) Presi...   negative  \n",
       "10859  CrowdStrike Holdings, Inc. (NASDAQ:CRWD) share...   negative  \n",
       "10860  Hillman Co. trimmed its position in shares of ...   negative  \n",
       "\n",
       "[10861 rows x 6 columns]"
      ]
     },
     "execution_count": 24,
     "metadata": {},
     "output_type": "execute_result"
    }
   ],
   "source": [
    "df = pd.read_csv('./crawling/cleaned_file.csv')\n",
    "df"
   ]
  },
  {
   "cell_type": "code",
   "execution_count": 25,
   "metadata": {},
   "outputs": [],
   "source": [
    "columns_drop = ['title','topic', 'source', 'article_link' ]\n",
    "df.drop(columns=columns_drop, inplace=True)"
   ]
  },
  {
   "cell_type": "code",
   "execution_count": 32,
   "metadata": {},
   "outputs": [],
   "source": [
    "df.to_csv('twofortraining.csv',index = False)"
   ]
  },
  {
   "cell_type": "code",
   "execution_count": 33,
   "metadata": {},
   "outputs": [],
   "source": [
    "import torchtext.data as data\n",
    "\n",
    "TEXT = data.Field(\n",
    "    tokenize='spacy', # default splits on whitespace\n",
    "    tokenizer_language='en_core_web_sm'\n",
    ")\n",
    "\n",
    "LABEL = data.LabelField(dtype=torch.long)"
   ]
  },
  {
   "cell_type": "code",
   "execution_count": 34,
   "metadata": {},
   "outputs": [],
   "source": [
    "fields = [('TEXT_COLUMN_NAME', TEXT), ('LABEL_COLUMN_NAME', LABEL)]\n",
    "\n",
    "dataset = data.TabularDataset(\n",
    "    path='twofortraining.csv', format='csv',\n",
    "    skip_header=True, fields=fields)"
   ]
  },
  {
   "cell_type": "code",
   "execution_count": 29,
   "metadata": {},
   "outputs": [
    {
     "name": "stdout",
     "output_type": "stream",
     "text": [
      "Num Train: 8689\n",
      "Num Test: 2172\n"
     ]
    }
   ],
   "source": [
    "train_data, test_data = dataset.split(\n",
    "    split_ratio=[0.8, 0.2],\n",
    "    random_state=random.seed(RANDOM_SEED))\n",
    "\n",
    "print(f'Num Train: {len(train_data)}')\n",
    "print(f'Num Test: {len(test_data)}')"
   ]
  },
  {
   "cell_type": "code",
   "execution_count": 30,
   "metadata": {},
   "outputs": [
    {
     "name": "stdout",
     "output_type": "stream",
     "text": [
      "Num Train: 7386\n",
      "Num Validation: 1303\n"
     ]
    }
   ],
   "source": [
    "train_data, valid_data = train_data.split(\n",
    "    split_ratio=[0.85, 0.15],\n",
    "    random_state=random.seed(RANDOM_SEED))\n",
    "\n",
    "print(f'Num Train: {len(train_data)}')\n",
    "print(f'Num Validation: {len(valid_data)}')"
   ]
  },
  {
   "cell_type": "code",
   "execution_count": 31,
   "metadata": {},
   "outputs": [
    {
     "name": "stdout",
     "output_type": "stream",
     "text": [
      "{'TEXT_COLUMN_NAME': ['Monster', 'Beverage'], 'LABEL_COLUMN_NAME': 'Why Monster Beverage (MNST) is a Top Momentum Stock for the Long-Term'}\n"
     ]
    }
   ],
   "source": [
    "print(vars(train_data.examples[0]))\n"
   ]
  },
  {
   "cell_type": "markdown",
   "metadata": {},
   "source": []
  },
  {
   "cell_type": "code",
   "execution_count": null,
   "metadata": {},
   "outputs": [],
   "source": []
  },
  {
   "cell_type": "code",
   "execution_count": null,
   "metadata": {},
   "outputs": [],
   "source": []
  }
 ],
 "metadata": {
  "kernelspec": {
   "display_name": "Python 3",
   "language": "python",
   "name": "python3"
  },
  "language_info": {
   "codemirror_mode": {
    "name": "ipython",
    "version": 3
   },
   "file_extension": ".py",
   "mimetype": "text/x-python",
   "name": "python",
   "nbconvert_exporter": "python",
   "pygments_lexer": "ipython3",
   "version": "3.10.0"
  }
 },
 "nbformat": 4,
 "nbformat_minor": 2
}
